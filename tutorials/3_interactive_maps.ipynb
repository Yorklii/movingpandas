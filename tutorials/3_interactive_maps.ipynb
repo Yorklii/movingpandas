{
 "cells": [
  {
   "cell_type": "markdown",
   "metadata": {},
   "source": [
    "# Interactive map plots for MovingPandas\n",
    "\n",
    "An evaluation of **folium** and **hvplot**"
   ]
  },
  {
   "cell_type": "code",
   "execution_count": null,
   "metadata": {},
   "outputs": [],
   "source": [
    "%matplotlib inline"
   ]
  },
  {
   "cell_type": "code",
   "execution_count": null,
   "metadata": {},
   "outputs": [],
   "source": [
    "import urllib\n",
    "import os\n",
    "import pandas as pd\n",
    "import geopandas as gpd\n",
    "import contextily as ctx\n",
    "from geopandas import GeoDataFrame, read_file\n",
    "from shapely.geometry import Point, LineString, Polygon\n",
    "from datetime import datetime, timedelta\n",
    "from matplotlib import pyplot as plt\n",
    "\n",
    "import sys\n",
    "sys.path.append(\"..\")\n",
    "import movingpandas as mpd\n",
    "\n",
    "import warnings\n",
    "warnings.simplefilter(\"ignore\")"
   ]
  },
  {
   "cell_type": "code",
   "execution_count": null,
   "metadata": {},
   "outputs": [],
   "source": [
    "df = read_file('data/demodata_geolife.gpkg')\n",
    "df['t'] = pd.to_datetime(df['t'])\n",
    "df = df.set_index('t').tz_localize(None)\n",
    "print(\"Finished reading {} rows\".format(len(df)))"
   ]
  },
  {
   "cell_type": "code",
   "execution_count": null,
   "metadata": {},
   "outputs": [],
   "source": [
    "traj_collection = mpd.TrajectoryCollection(df, 'trajectory_id')\n",
    "print(traj_collection)"
   ]
  },
  {
   "cell_type": "code",
   "execution_count": null,
   "metadata": {},
   "outputs": [],
   "source": [
    "gdf = traj_collection.trajectories[1].df"
   ]
  },
  {
   "cell_type": "code",
   "execution_count": null,
   "metadata": {},
   "outputs": [],
   "source": [
    "import hvplot.pandas\n",
    "from holoviews import opts\n",
    "import folium\n",
    "import branca"
   ]
  },
  {
   "cell_type": "markdown",
   "metadata": {},
   "source": [
    "## Minimum viable"
   ]
  },
  {
   "cell_type": "markdown",
   "metadata": {},
   "source": [
    "For tile options available in hvplot, check https://hvplot.pyviz.org/user_guide/Geographic_Data.html"
   ]
  },
  {
   "cell_type": "code",
   "execution_count": null,
   "metadata": {},
   "outputs": [],
   "source": [
    "gdf.hvplot(geo=True, tiles=True, width=500, height=300) "
   ]
  },
  {
   "cell_type": "code",
   "execution_count": null,
   "metadata": {},
   "outputs": [],
   "source": [
    "folium_map = folium.Map()\n",
    "\n",
    "for pt in gdf.geometry:\n",
    "    folium.CircleMarker(\n",
    "        [pt.y, pt.x]\n",
    "    ).add_to(folium_map)\n",
    "\n",
    "folium_map"
   ]
  },
  {
   "cell_type": "markdown",
   "metadata": {},
   "source": [
    "## Standard interaction and zoom to area of interest"
   ]
  },
  {
   "cell_type": "code",
   "execution_count": null,
   "metadata": {},
   "outputs": [],
   "source": [
    "opts.defaults(\n",
    "    opts.Overlay(\n",
    "        width=500, height=300,\n",
    "        active_tools=['wheel_zoom']\n",
    "))\n",
    "\n",
    "gdf.hvplot(geo=True, tiles=True) "
   ]
  },
  {
   "cell_type": "code",
   "execution_count": null,
   "metadata": {},
   "outputs": [],
   "source": [
    "folium_map = folium.Map([40.02, 116.45], zoom_start=11)\n",
    "\n",
    "for pt in gdf.geometry:\n",
    "    folium.CircleMarker(\n",
    "        [pt.y, pt.x],\n",
    "        radius=2, fill=True\n",
    "    ).add_to(folium_map)\n",
    "\n",
    "folium_map"
   ]
  },
  {
   "cell_type": "markdown",
   "metadata": {},
   "source": [
    "## Color by attribute"
   ]
  },
  {
   "cell_type": "code",
   "execution_count": null,
   "metadata": {},
   "outputs": [],
   "source": [
    "gdf.hvplot(geo=True, tiles=True, c='sequence') "
   ]
  },
  {
   "cell_type": "code",
   "execution_count": null,
   "metadata": {},
   "outputs": [],
   "source": [
    "folium_map = folium.Map([40.02, 116.45], zoom_start=11)\n",
    "colorscale = branca.colormap.linear.YlGnBu_09.scale(1000,2000)\n",
    "\n",
    "for pt, seq in gdf[['geometry','sequence']].values:\n",
    "    folium.CircleMarker(\n",
    "        [pt.y, pt.x],\n",
    "        radius=3, fill=True,\n",
    "        color='b', fill_color=colorscale(seq),\n",
    "        fill_opacity=1.0\n",
    "    ).add_to(folium_map)\n",
    "\n",
    "folium_map"
   ]
  },
  {
   "cell_type": "markdown",
   "metadata": {},
   "source": [
    "## Drawing lines instead of points\n",
    "\n",
    "To replicate the built-in Trajectory.plot() function, we have to plot the Trajectory's line representation rather than its points."
   ]
  },
  {
   "cell_type": "code",
   "execution_count": null,
   "metadata": {},
   "outputs": [],
   "source": [
    "temp = traj_collection.trajectories[1].copy()\n",
    "temp.add_speed(overwrite=True)\n",
    "line_gdf = temp._to_line_df().drop(['geometry','prev_pt'], axis=1) \n",
    "line_gdf = line_gdf.rename(columns={'line':'geometry'}).set_geometry('geometry')\n",
    "line_gdf.head()"
   ]
  },
  {
   "cell_type": "code",
   "execution_count": null,
   "metadata": {},
   "outputs": [],
   "source": [
    "line_gdf.plot(column='speed', legend=True, cmap='RdYlGn')"
   ]
  },
  {
   "cell_type": "code",
   "execution_count": null,
   "metadata": {},
   "outputs": [],
   "source": [
    "line_gdf.hvplot(geo=True,  tiles='StamenToner', line_width=5, \n",
    "                c='speed', cmap='RdYlGn') "
   ]
  },
  {
   "cell_type": "code",
   "execution_count": null,
   "metadata": {},
   "outputs": [],
   "source": [
    "folium_map = folium.Map([40.02, 116.45], zoom_start=11)\n",
    "folium.TileLayer('stamentoner').add_to(folium_map)\n",
    "speed_scale = branca.colormap.linear.RdYlGn_09.scale(0,30)\n",
    "\n",
    "def flip_lat_lon(geometry):\n",
    "    return [(y, x) for x, y in geometry.coords]\n",
    "\n",
    "for line, speed in line_gdf[['geometry','speed']].values:\n",
    "    folium.PolyLine(\n",
    "        flip_lat_lon(line),\n",
    "        weight=5,\n",
    "        color=speed_scale(speed)\n",
    "    ).add_to(folium_map)\n",
    " \n",
    "folium_map"
   ]
  },
  {
   "cell_type": "code",
   "execution_count": null,
   "metadata": {},
   "outputs": [],
   "source": []
  }
 ],
 "metadata": {
  "kernelspec": {
   "display_name": "Python 3",
   "language": "python",
   "name": "python3"
  },
  "language_info": {
   "codemirror_mode": {
    "name": "ipython",
    "version": 3
   },
   "file_extension": ".py",
   "mimetype": "text/x-python",
   "name": "python",
   "nbconvert_exporter": "python",
   "pygments_lexer": "ipython3",
   "version": "3.7.3"
  }
 },
 "nbformat": 4,
 "nbformat_minor": 4
}
